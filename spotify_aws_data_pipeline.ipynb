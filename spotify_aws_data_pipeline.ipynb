{
  "nbformat": 4,
  "nbformat_minor": 0,
  "metadata": {
    "colab": {
      "provenance": [],
      "gpuType": "T4",
      "authorship_tag": "ABX9TyNuEqQs+VT4yfQs5IoJvU63",
      "include_colab_link": true
    },
    "kernelspec": {
      "name": "python3",
      "display_name": "Python 3"
    },
    "language_info": {
      "name": "python"
    },
    "accelerator": "GPU"
  },
  "cells": [
    {
      "cell_type": "markdown",
      "metadata": {
        "id": "view-in-github",
        "colab_type": "text"
      },
      "source": [
        "<a href=\"https://colab.research.google.com/github/DanielBerkes/git-intro/blob/master/spotify_aws_data_pipeline.ipynb\" target=\"_parent\"><img src=\"https://colab.research.google.com/assets/colab-badge.svg\" alt=\"Open In Colab\"/></a>"
      ]
    },
    {
      "cell_type": "markdown",
      "source": [
        "The following command installs the `spotipy` library in the Jupyter notebook environment:\n",
        "- `!` indicates that the command should be executed in the system's shell, not in the Python interpreter.\n",
        "- `pip` is the package installer for Python, used to install and manage additional libraries.\n",
        "- `install` is the pip command to install a package.\n",
        "- `spotipy` is a lightweight Python library for the Spotify Web API."
      ],
      "metadata": {
        "id": "u4Zg-o1QXxV_"
      }
    },
    {
      "cell_type": "code",
      "execution_count": 1,
      "metadata": {
        "colab": {
          "base_uri": "https://localhost:8080/"
        },
        "id": "Oe8cD5VCJsv3",
        "outputId": "e6cc819a-0e8d-496b-e9d2-17dd9cf80fb8",
        "collapsed": true
      },
      "outputs": [
        {
          "output_type": "stream",
          "name": "stdout",
          "text": [
            "Collecting spotipy\n",
            "  Downloading spotipy-2.24.0-py3-none-any.whl (30 kB)\n",
            "Collecting redis>=3.5.3 (from spotipy)\n",
            "  Downloading redis-5.0.7-py3-none-any.whl (252 kB)\n",
            "\u001b[2K     \u001b[90m━━━━━━━━━━━━━━━━━━━━━━━━━━━━━━━━━━━━━━━━\u001b[0m \u001b[32m252.1/252.1 kB\u001b[0m \u001b[31m4.6 MB/s\u001b[0m eta \u001b[36m0:00:00\u001b[0m\n",
            "\u001b[?25hRequirement already satisfied: requests>=2.25.0 in /usr/local/lib/python3.10/dist-packages (from spotipy) (2.31.0)\n",
            "Requirement already satisfied: urllib3>=1.26.0 in /usr/local/lib/python3.10/dist-packages (from spotipy) (2.0.7)\n",
            "Requirement already satisfied: async-timeout>=4.0.3 in /usr/local/lib/python3.10/dist-packages (from redis>=3.5.3->spotipy) (4.0.3)\n",
            "Requirement already satisfied: charset-normalizer<4,>=2 in /usr/local/lib/python3.10/dist-packages (from requests>=2.25.0->spotipy) (3.3.2)\n",
            "Requirement already satisfied: idna<4,>=2.5 in /usr/local/lib/python3.10/dist-packages (from requests>=2.25.0->spotipy) (3.7)\n",
            "Requirement already satisfied: certifi>=2017.4.17 in /usr/local/lib/python3.10/dist-packages (from requests>=2.25.0->spotipy) (2024.7.4)\n",
            "Installing collected packages: redis, spotipy\n",
            "Successfully installed redis-5.0.7 spotipy-2.24.0\n"
          ]
        }
      ],
      "source": [
        "!pip install spotipy"
      ]
    },
    {
      "cell_type": "markdown",
      "source": [
        "The following code imports the `spotipy` library and the `SpotifyClientCredentials` class from `spotipy.oauth2` for interacting with Spotify's Web API"
      ],
      "metadata": {
        "id": "E5SXE7iPYzCk"
      }
    },
    {
      "cell_type": "code",
      "source": [
        "import spotipy\n",
        "from spotipy.oauth2 import SpotifyClientCredentials\n",
        "import pandas as pd"
      ],
      "metadata": {
        "id": "Oq-Q2LR9KC3V"
      },
      "execution_count": 2,
      "outputs": []
    },
    {
      "cell_type": "markdown",
      "source": [
        "Creates an instance of `SpotifyClientCredentials` with your Spotify application's `client_id` and `client_secret` for authentication with Spotify's Web API:"
      ],
      "metadata": {
        "id": "JyfcWgeoZk-f"
      }
    },
    {
      "cell_type": "code",
      "source": [
        "client_credentials_manager = SpotifyClientCredentials(client_id=\"80a16ccb47644b35a438945b39bf057c\", client_secret=\"4aaeb6bf308344b39e132f5b4153cddb\")"
      ],
      "metadata": {
        "id": "pdXfk5gzKtob"
      },
      "execution_count": 3,
      "outputs": []
    },
    {
      "cell_type": "markdown",
      "source": [
        "Initializes the Spotipy client with the provided `client_credentials_manager` for making requests to Spotify's Web API"
      ],
      "metadata": {
        "id": "ny_kOMuJZ6Qr"
      }
    },
    {
      "cell_type": "code",
      "source": [
        "sp = spotipy.Spotify(client_credentials_manager = client_credentials_manager)"
      ],
      "metadata": {
        "id": "n9mLpnO4LFFs"
      },
      "execution_count": 4,
      "outputs": []
    },
    {
      "cell_type": "markdown",
      "source": [
        "Defines the Spotify playlist link that will be used to fetch playlist data"
      ],
      "metadata": {
        "id": "2dqxylDPaMb3"
      }
    },
    {
      "cell_type": "code",
      "source": [
        "playlist_link = \"https://open.spotify.com/playlist/37i9dQZEVXbNG2KDcFcKOF?si=1333723a6eff4b7f\""
      ],
      "metadata": {
        "id": "VnPmcN9gLHZq"
      },
      "execution_count": 5,
      "outputs": []
    },
    {
      "cell_type": "markdown",
      "source": [
        "Extracts the playlist ID from the Spotify playlist link by splitting the URL and removing the query parameters. The function which will be used will expect this string as the argument."
      ],
      "metadata": {
        "id": "dChZ_13IaBJ_"
      }
    },
    {
      "cell_type": "code",
      "source": [
        "playlist_URI = playlist_link.split(\"/\")[-1].split('?')[0]"
      ],
      "metadata": {
        "id": "TLj7y6KlLQrj"
      },
      "execution_count": 6,
      "outputs": []
    },
    {
      "cell_type": "markdown",
      "source": [],
      "metadata": {
        "id": "sEelmqbkaDDD"
      }
    },
    {
      "cell_type": "code",
      "source": [
        "data = sp.playlist_tracks(playlist_URI)"
      ],
      "metadata": {
        "id": "7NOFGgPpLVgi"
      },
      "execution_count": 7,
      "outputs": []
    },
    {
      "cell_type": "markdown",
      "source": [
        "Iterates through the playlist data to extract album information and appends it to `album_list`:\n",
        "- `data['items']` contains the playlist tracks.\n",
        "- for each track, extracts album ID, name, release date, total tracks, and Spotify URL\n",
        "- Constructs a dictionary `album_element` with the extracted album information\n",
        "- Appends `album_element` to `album_list`\n",
        "\n",
        "Using dictionaries to store individual album data ensures all relevant information is kept together, while the list organize these dictionaries for efficient processing and analysis."
      ],
      "metadata": {
        "id": "IiiFiNmAvK9E"
      }
    },
    {
      "cell_type": "code",
      "source": [
        "album_list = []\n",
        "for row in data['items']:\n",
        "  album_id = row['track']['album']['id']\n",
        "  album_name = row['track']['album']['name']\n",
        "  album_release_date = row['track']['album']['release_date']\n",
        "  album_total_tracks = row['track']['album']['total_tracks']\n",
        "  album_url = row['track']['album']['external_urls']['spotify']\n",
        "  album_element = {\n",
        "      'album_id': album_id,\n",
        "      'name': album_name,\n",
        "      'release_date': album_release_date,\n",
        "      'total_tracks': album_total_tracks,\n",
        "      'url': album_url}\n",
        "  album_list.append(album_element)\n",
        "\n",
        "\n",
        ""
      ],
      "metadata": {
        "id": "fac0_A2sLZIc"
      },
      "execution_count": 8,
      "outputs": []
    },
    {
      "cell_type": "markdown",
      "source": [
        "Iterates through the playlist data to extract artist information and appends it to `artist_list`:\n",
        "- `data['items]` contains the playlist tracks\n",
        "- for each track, it checks if the key is `'track'` and then iterates through the list of artists associated with the track\n",
        "- constructs a dictionary `artist_dict` with the artist ID, name, and external URL for structured storage\n",
        "- appends `artist_dict` to `artist_list`, allowing for easy iteration, sorting, and filtering of multiple artists\n",
        "\n",
        "Using dictionary to store individual artist data ensures all relevant information is kept together, while the list organizes these dictionaries for efficient processing and analysis"
      ],
      "metadata": {
        "id": "8v79V6MZKBRJ"
      }
    },
    {
      "cell_type": "code",
      "source": [
        "artist_list = []\n",
        "for row in data['items']:\n",
        "  for key, value in row.items():\n",
        "    if key == 'track':\n",
        "      for artist in value['artists']:\n",
        "        artist_dict = {\n",
        "            'artist_id': artist['id'],\n",
        "            'artist_name': artist['name'],\n",
        "            'external_url': artist['href']\n",
        "        }\n",
        "        artist_list.append(artist_dict)"
      ],
      "metadata": {
        "collapsed": true,
        "id": "mqfN-nxmBtKV"
      },
      "execution_count": 9,
      "outputs": []
    },
    {
      "cell_type": "markdown",
      "source": [
        "Iterates through the playlist data to extract song information and appends it to `song_list`:\n",
        "- `data['items']` contains the playlist tracks\n",
        "- for each track, extracts song ID, name, duration, Spotify URL, popularity, and added date\n",
        "- also extracts album ID and first artist ID associated with the track\n",
        "- constructs a dictionary `song_element` with the extracted song information for structured storage\n",
        "- appends `song_element` to `song_list`, allowing for easy iteration, sorting, and filtering of multiple songs\n",
        "\n",
        "Using dictionaries to store individual song data ensure all revelent information is kept together, while the list organizes these dictionaries for efficient processing and analysis"
      ],
      "metadata": {
        "id": "-4wcUJHyJlz0"
      }
    },
    {
      "cell_type": "code",
      "source": [
        "song_list = []\n",
        "for row in data['items']:\n",
        "  song_id = row['track']['id']\n",
        "  song_name = row['track']['name']\n",
        "  song_duration = row['track']['duration_ms']\n",
        "  song_url = row['track']['external_urls']['spotify']\n",
        "  song_popularity = row['track']['popularity']\n",
        "  song_added = row['added_at']\n",
        "  album_id = row['track']['album']['id']\n",
        "  artist_id = row['track']['artists'][0]['id']\n",
        "  song_element = {\n",
        "      'song_id': song_id,\n",
        "      'song_name': song_name,\n",
        "      'song_ms': song_duration,\n",
        "      'url': song_url,\n",
        "      'popularity': song_popularity,\n",
        "      'song_added': song_added,\n",
        "      'album_id': album_id,\n",
        "      'artist_id': artist_id\n",
        "      }\n",
        "  song_list.append(song_element)"
      ],
      "metadata": {
        "id": "C8hD5nviMKpT"
      },
      "execution_count": 10,
      "outputs": []
    },
    {
      "cell_type": "markdown",
      "source": [
        "Converts the `album_list` to a Pandas DataFrame for easier data manipulation and analysis:\n",
        "- `album_list` is a lit of dictionaries containing album information\n",
        "- `pd.DataFrame.from(album_list)` creates a DataFrame from this list, organizing the data into a tabular format with columns corresponding to dictionary keys."
      ],
      "metadata": {
        "id": "1c-awpdRO0JZ"
      }
    },
    {
      "cell_type": "code",
      "source": [
        "album_df = pd.DataFrame.from_dict(album_list)\n"
      ],
      "metadata": {
        "id": "-CaE46jfO1tB"
      },
      "execution_count": 11,
      "outputs": []
    },
    {
      "cell_type": "markdown",
      "source": [
        "Removes duplicates from the `album_df` DataFrame based on the `album_id` column to ensure each album appears only once:\n",
        "- `album_df.drop_duplicates(subset=['album_id'])` identifies and drops row with duplicate `album_id` values\n",
        "- this helps maintain a clean and accurate dataset for analysis"
      ],
      "metadata": {
        "id": "hKGiGFjsRAl9"
      }
    },
    {
      "cell_type": "code",
      "source": [
        "album_df = album_df.drop_duplicates(subset=['album_id'])"
      ],
      "metadata": {
        "id": "_vLiWf-HQlE4"
      },
      "execution_count": 12,
      "outputs": []
    },
    {
      "cell_type": "code",
      "source": [
        "artist_df = df.DataFrame.from_dict(artist_list)"
      ],
      "metadata": {
        "colab": {
          "base_uri": "https://localhost:8080/",
          "height": 141
        },
        "id": "TfOz8uO_Qlp4",
        "outputId": "9ac095c1-60d6-4e42-fe25-8504572a1140"
      },
      "execution_count": 14,
      "outputs": [
        {
          "output_type": "error",
          "ename": "NameError",
          "evalue": "name 'df' is not defined",
          "traceback": [
            "\u001b[0;31m---------------------------------------------------------------------------\u001b[0m",
            "\u001b[0;31mNameError\u001b[0m                                 Traceback (most recent call last)",
            "\u001b[0;32m<ipython-input-14-fabbc137e361>\u001b[0m in \u001b[0;36m<cell line: 1>\u001b[0;34m()\u001b[0m\n\u001b[0;32m----> 1\u001b[0;31m \u001b[0martist_df\u001b[0m \u001b[0;34m=\u001b[0m \u001b[0mdf\u001b[0m\u001b[0;34m.\u001b[0m\u001b[0mDataFrame\u001b[0m\u001b[0;34m.\u001b[0m\u001b[0mfrom_dict\u001b[0m\u001b[0;34m(\u001b[0m\u001b[0martist_list\u001b[0m\u001b[0;34m)\u001b[0m\u001b[0;34m\u001b[0m\u001b[0;34m\u001b[0m\u001b[0m\n\u001b[0m",
            "\u001b[0;31mNameError\u001b[0m: name 'df' is not defined"
          ]
        }
      ]
    },
    {
      "cell_type": "code",
      "source": [
        "artist_df = artist_df.drop_duplicates(subset=['album_id'])"
      ],
      "metadata": {
        "id": "YA2-qqvgloM3"
      },
      "execution_count": null,
      "outputs": []
    },
    {
      "cell_type": "code",
      "source": [],
      "metadata": {
        "id": "ntTSZHD_l4Qy"
      },
      "execution_count": null,
      "outputs": []
    }
  ]
}