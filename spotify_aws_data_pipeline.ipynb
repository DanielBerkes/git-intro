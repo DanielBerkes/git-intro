{
  "nbformat": 4,
  "nbformat_minor": 0,
  "metadata": {
    "colab": {
      "provenance": [],
      "authorship_tag": "ABX9TyNuEqQs+VT4yfQs5IoJvU63",
      "include_colab_link": true
    },
    "kernelspec": {
      "name": "python3",
      "display_name": "Python 3"
    },
    "language_info": {
      "name": "python"
    }
  },
  "cells": [
    {
      "cell_type": "markdown",
      "metadata": {
        "id": "view-in-github",
        "colab_type": "text"
      },
      "source": [
        "<a href=\"https://colab.research.google.com/github/DanielBerkes/git-intro/blob/master/spotify_aws_data_pipeline.ipynb\" target=\"_parent\"><img src=\"https://colab.research.google.com/assets/colab-badge.svg\" alt=\"Open In Colab\"/></a>"
      ]
    },
    {
      "cell_type": "markdown",
      "source": [
        "The following command installs the `spotipy` library in the Jupyter notebook environment:\n",
        "- `!` indicates that the command should be executed in the system's shell, not in the Python interpreter.\n",
        "- `pip` is the package installer for Python, used to install and manage additional libraries.\n",
        "- `install` is the pip command to install a package.\n",
        "- `spotipy` is a lightweight Python library for the Spotify Web API."
      ],
      "metadata": {
        "id": "u4Zg-o1QXxV_"
      }
    },
    {
      "cell_type": "code",
      "execution_count": 4,
      "metadata": {
        "colab": {
          "base_uri": "https://localhost:8080/"
        },
        "id": "Oe8cD5VCJsv3",
        "outputId": "6de85fdd-33bc-4490-e6d4-581a9260814b",
        "collapsed": true
      },
      "outputs": [
        {
          "output_type": "stream",
          "name": "stdout",
          "text": [
            "Collecting spotipy\n",
            "  Downloading spotipy-2.24.0-py3-none-any.whl (30 kB)\n",
            "Collecting redis>=3.5.3 (from spotipy)\n",
            "  Downloading redis-5.0.7-py3-none-any.whl (252 kB)\n",
            "\u001b[2K     \u001b[90m━━━━━━━━━━━━━━━━━━━━━━━━━━━━━━━━━━━━━━━━\u001b[0m \u001b[32m252.1/252.1 kB\u001b[0m \u001b[31m5.6 MB/s\u001b[0m eta \u001b[36m0:00:00\u001b[0m\n",
            "\u001b[?25hRequirement already satisfied: requests>=2.25.0 in /usr/local/lib/python3.10/dist-packages (from spotipy) (2.31.0)\n",
            "Requirement already satisfied: urllib3>=1.26.0 in /usr/local/lib/python3.10/dist-packages (from spotipy) (2.0.7)\n",
            "Requirement already satisfied: async-timeout>=4.0.3 in /usr/local/lib/python3.10/dist-packages (from redis>=3.5.3->spotipy) (4.0.3)\n",
            "Requirement already satisfied: charset-normalizer<4,>=2 in /usr/local/lib/python3.10/dist-packages (from requests>=2.25.0->spotipy) (3.3.2)\n",
            "Requirement already satisfied: idna<4,>=2.5 in /usr/local/lib/python3.10/dist-packages (from requests>=2.25.0->spotipy) (3.7)\n",
            "Requirement already satisfied: certifi>=2017.4.17 in /usr/local/lib/python3.10/dist-packages (from requests>=2.25.0->spotipy) (2024.7.4)\n",
            "Installing collected packages: redis, spotipy\n",
            "Successfully installed redis-5.0.7 spotipy-2.24.0\n"
          ]
        }
      ],
      "source": [
        "!pip install spotipy"
      ]
    },
    {
      "cell_type": "markdown",
      "source": [
        "The following code imports the `spotipy` library and the `SpotifyClientCredentials` class from `spotipy.oauth2` for interacting with Spotify's Web API"
      ],
      "metadata": {
        "id": "E5SXE7iPYzCk"
      }
    },
    {
      "cell_type": "code",
      "source": [
        "import spotipy\n",
        "from spotipy.oauth2 import SpotifyClientCredentials\n",
        "import pandas as pd"
      ],
      "metadata": {
        "id": "Oq-Q2LR9KC3V"
      },
      "execution_count": 22,
      "outputs": []
    },
    {
      "cell_type": "markdown",
      "source": [
        "Creates an instance of `SpotifyClientCredentials` with your Spotify application's `client_id` and `client_secret` for authentication with Spotify's Web API:"
      ],
      "metadata": {
        "id": "JyfcWgeoZk-f"
      }
    },
    {
      "cell_type": "code",
      "source": [
        "client_credentials_manager = SpotifyClientCredentials(client_id=\"80a16ccb47644b35a438945b39bf057c\", client_secret=\"4aaeb6bf308344b39e132f5b4153cddb\")"
      ],
      "metadata": {
        "id": "pdXfk5gzKtob"
      },
      "execution_count": 6,
      "outputs": []
    },
    {
      "cell_type": "markdown",
      "source": [
        "Initializes the Spotipy client with the provided `client_credentials_manager` for making requests to Spotify's Web API"
      ],
      "metadata": {
        "id": "ny_kOMuJZ6Qr"
      }
    },
    {
      "cell_type": "code",
      "source": [
        "sp = spotipy.Spotify(client_credentials_manager = client_credentials_manager)"
      ],
      "metadata": {
        "id": "n9mLpnO4LFFs"
      },
      "execution_count": 7,
      "outputs": []
    },
    {
      "cell_type": "markdown",
      "source": [
        "Defines the Spotify playlist link that will be used to fetch playlist data"
      ],
      "metadata": {
        "id": "2dqxylDPaMb3"
      }
    },
    {
      "cell_type": "code",
      "source": [
        "playlist_link = \"https://open.spotify.com/playlist/37i9dQZEVXbNG2KDcFcKOF?si=1333723a6eff4b7f\""
      ],
      "metadata": {
        "id": "VnPmcN9gLHZq"
      },
      "execution_count": 8,
      "outputs": []
    },
    {
      "cell_type": "markdown",
      "source": [
        "Extracts the playlist ID from the Spotify playlist link by splitting the URL and removing the query parameters. The function which will be used will expect this string as the argument."
      ],
      "metadata": {
        "id": "dChZ_13IaBJ_"
      }
    },
    {
      "cell_type": "code",
      "source": [
        "playlist_URI = playlist_link.split(\"/\")[-1].split('?')[0]"
      ],
      "metadata": {
        "id": "TLj7y6KlLQrj"
      },
      "execution_count": 9,
      "outputs": []
    },
    {
      "cell_type": "markdown",
      "source": [],
      "metadata": {
        "id": "sEelmqbkaDDD"
      }
    },
    {
      "cell_type": "code",
      "source": [
        "data = sp.playlist_tracks(playlist_URI)"
      ],
      "metadata": {
        "id": "7NOFGgPpLVgi"
      },
      "execution_count": 10,
      "outputs": []
    },
    {
      "cell_type": "markdown",
      "source": [
        "Iterates through the playlist data to extract album information and appends it to `album_list`:\n",
        "- `data['items']` contains the playlist tracks.\n",
        "- for each track, extracts album ID, name, release date, total tracks, and Spotify URL\n",
        "- Constructs a dictionary `album_element` with the extracted album information\n",
        "- Appends `album_element` to `album_list`\n",
        "\n",
        "Using dictionaries to store individual album data ensures all relevant information is kept together, while the list organize these dictionaries for efficient processing and analysis."
      ],
      "metadata": {
        "id": "IiiFiNmAvK9E"
      }
    },
    {
      "cell_type": "code",
      "source": [
        "album_list = []\n",
        "for row in data['items']:\n",
        "  album_id = row['track']['album']['id']\n",
        "  album_name = row['track']['album']['name']\n",
        "  album_release_date = row['track']['album']['release_date']\n",
        "  album_total_tracks = row['track']['album']['total_tracks']\n",
        "  album_url = row['track']['album']['external_urls']['spotify']\n",
        "  album_element = {\n",
        "      'album_id': album_id,\n",
        "      'name': album_name,\n",
        "      'release_date': album_release_date,\n",
        "      'total_tracks': album_total_tracks,\n",
        "      'url': album_url}\n",
        "  album_list.append(album_element)\n",
        "\n",
        "\n",
        ""
      ],
      "metadata": {
        "id": "fac0_A2sLZIc"
      },
      "execution_count": null,
      "outputs": []
    },
    {
      "cell_type": "markdown",
      "source": [
        "Iterates through the playlist data to extract artist information and appends it to `artist_list`:\n",
        "- `data['items]` contains the playlist tracks\n",
        "- for each track, it checks if the key is `'track'` and then iterates through the list of artists associated with the track\n",
        "- constructs a dictionary `artist_dict` with the artist ID, name, and external URL for structured storage\n",
        "- appends `artist_dict` to `artist_list`, allowing for easy iteration, sorting, and filtering of multiple artists\n",
        "\n",
        "Using dictionary to store individual artist data ensures all relevant information is kept together, while the list organizes these dictionaries for efficient processing and analysis"
      ],
      "metadata": {
        "id": "8v79V6MZKBRJ"
      }
    },
    {
      "cell_type": "code",
      "source": [
        "artist_list = []\n",
        "for row in data['items']:\n",
        "  for key, value in row.items():\n",
        "    if key == 'track':\n",
        "      for artist in value['artists']:\n",
        "        artist_dict = {\n",
        "            'artist_id': artist['id'],\n",
        "            'artist_name': artist['name'],\n",
        "            'external_url': artist['href']\n",
        "        }\n",
        "        artist_list.append(artist_dict)"
      ],
      "metadata": {
        "collapsed": true,
        "colab": {
          "base_uri": "https://localhost:8080/"
        },
        "id": "mqfN-nxmBtKV",
        "outputId": "d2ae0bb7-006d-4407-ab38-aa13e1f4486e"
      },
      "execution_count": 20,
      "outputs": [
        {
          "output_type": "stream",
          "name": "stdout",
          "text": [
            "{'artist_id': '74KM79TiuVKeVCqs8QtB0B', 'artist_name': 'Sabrina Carpenter', 'external_url': 'https://api.spotify.com/v1/artists/74KM79TiuVKeVCqs8QtB0B'}\n",
            "{'artist_id': '6qqNVTkY8uBg9cP3Jd7DAH', 'artist_name': 'Billie Eilish', 'external_url': 'https://api.spotify.com/v1/artists/6qqNVTkY8uBg9cP3Jd7DAH'}\n",
            "{'artist_id': '74KM79TiuVKeVCqs8QtB0B', 'artist_name': 'Sabrina Carpenter', 'external_url': 'https://api.spotify.com/v1/artists/74KM79TiuVKeVCqs8QtB0B'}\n",
            "{'artist_id': '2YZyLoL8N0Wb9xBt1NhZWg', 'artist_name': 'Kendrick Lamar', 'external_url': 'https://api.spotify.com/v1/artists/2YZyLoL8N0Wb9xBt1NhZWg'}\n",
            "{'artist_id': '7CvTknweLr9feJtRGrpDBy', 'artist_name': 'FloyyMenor', 'external_url': 'https://api.spotify.com/v1/artists/7CvTknweLr9feJtRGrpDBy'}\n",
            "{'artist_id': '1Yj5Xey7kTwvZla8sqdsdE', 'artist_name': 'Cris Mj', 'external_url': 'https://api.spotify.com/v1/artists/1Yj5Xey7kTwvZla8sqdsdE'}\n",
            "{'artist_id': '3y2cIKLjiOlp1Np37WiUdH', 'artist_name': 'Shaboozey', 'external_url': 'https://api.spotify.com/v1/artists/3y2cIKLjiOlp1Np37WiUdH'}\n",
            "{'artist_id': '1WaFQSHVGZQJTbf0BdxdNo', 'artist_name': 'Tommy Richman', 'external_url': 'https://api.spotify.com/v1/artists/1WaFQSHVGZQJTbf0BdxdNo'}\n",
            "{'artist_id': '22wbnEMDvgVIAGdFeek6ET', 'artist_name': 'Benson Boone', 'external_url': 'https://api.spotify.com/v1/artists/22wbnEMDvgVIAGdFeek6ET'}\n",
            "{'artist_id': '7GlBOeep6PqTfFi59PTUUN', 'artist_name': 'Chappell Roan', 'external_url': 'https://api.spotify.com/v1/artists/7GlBOeep6PqTfFi59PTUUN'}\n",
            "{'artist_id': '790FomKkXshlbRYZFtlgla', 'artist_name': 'KAROL G', 'external_url': 'https://api.spotify.com/v1/artists/790FomKkXshlbRYZFtlgla'}\n",
            "{'artist_id': '2FXC3k01G6Gw61bmprjgqS', 'artist_name': 'Hozier', 'external_url': 'https://api.spotify.com/v1/artists/2FXC3k01G6Gw61bmprjgqS'}\n",
            "{'artist_id': '246dkjvS1zLTtiykXe5h60', 'artist_name': 'Post Malone', 'external_url': 'https://api.spotify.com/v1/artists/246dkjvS1zLTtiykXe5h60'}\n",
            "{'artist_id': '4oUHIQIBe0LHzYfvXNW4QM', 'artist_name': 'Morgan Wallen', 'external_url': 'https://api.spotify.com/v1/artists/4oUHIQIBe0LHzYfvXNW4QM'}\n",
            "{'artist_id': '0PCCGZ0wGLizHt2KZ7hhA2', 'artist_name': 'Artemas', 'external_url': 'https://api.spotify.com/v1/artists/0PCCGZ0wGLizHt2KZ7hhA2'}\n",
            "{'artist_id': '5L1lO4eRHmJ7a0Q6csE5cT', 'artist_name': 'LISA', 'external_url': 'https://api.spotify.com/v1/artists/5L1lO4eRHmJ7a0Q6csE5cT'}\n",
            "{'artist_id': '2x7PC78TmgqpEIjaGAZ0Oz', 'artist_name': 'Trueno', 'external_url': 'https://api.spotify.com/v1/artists/2x7PC78TmgqpEIjaGAZ0Oz'}\n",
            "{'artist_id': '7dGJo4pcD2V6oG8kP0tJRR', 'artist_name': 'Eminem', 'external_url': 'https://api.spotify.com/v1/artists/7dGJo4pcD2V6oG8kP0tJRR'}\n",
            "{'artist_id': '5p9HO3XC5P3BLxJs5Mtrhm', 'artist_name': 'Djo', 'external_url': 'https://api.spotify.com/v1/artists/5p9HO3XC5P3BLxJs5Mtrhm'}\n",
            "{'artist_id': '6qqNVTkY8uBg9cP3Jd7DAH', 'artist_name': 'Billie Eilish', 'external_url': 'https://api.spotify.com/v1/artists/6qqNVTkY8uBg9cP3Jd7DAH'}\n",
            "{'artist_id': '3bO19AOone0ubCsfDXDtYt', 'artist_name': 'Myles Smith', 'external_url': 'https://api.spotify.com/v1/artists/3bO19AOone0ubCsfDXDtYt'}\n",
            "{'artist_id': '33qOK5uJ8AR2xuQQAhHump', 'artist_name': 'Teddy Swims', 'external_url': 'https://api.spotify.com/v1/artists/33qOK5uJ8AR2xuQQAhHump'}\n",
            "{'artist_id': '0VRj0yCOv2FXJNP47XQnx5', 'artist_name': 'Quavo', 'external_url': 'https://api.spotify.com/v1/artists/0VRj0yCOv2FXJNP47XQnx5'}\n",
            "{'artist_id': '00FQb4jTyendYWaN8pK0wa', 'artist_name': 'Lana Del Rey', 'external_url': 'https://api.spotify.com/v1/artists/00FQb4jTyendYWaN8pK0wa'}\n",
            "{'artist_id': '06HL4z0CvFAxyc27GXpf02', 'artist_name': 'Taylor Swift', 'external_url': 'https://api.spotify.com/v1/artists/06HL4z0CvFAxyc27GXpf02'}\n",
            "{'artist_id': '246dkjvS1zLTtiykXe5h60', 'artist_name': 'Post Malone', 'external_url': 'https://api.spotify.com/v1/artists/246dkjvS1zLTtiykXe5h60'}\n",
            "{'artist_id': '66CXWjxzNUsdJxJ2JdwvnR', 'artist_name': 'Ariana Grande', 'external_url': 'https://api.spotify.com/v1/artists/66CXWjxzNUsdJxJ2JdwvnR'}\n",
            "{'artist_id': '1oSPZhvZMIrWW5I41kPkkY', 'artist_name': 'Jimin', 'external_url': 'https://api.spotify.com/v1/artists/1oSPZhvZMIrWW5I41kPkkY'}\n",
            "{'artist_id': '2e4G04F77jxVuDYo44TCSm', 'artist_name': 'Loco', 'external_url': 'https://api.spotify.com/v1/artists/2e4G04F77jxVuDYo44TCSm'}\n",
            "{'artist_id': '06HL4z0CvFAxyc27GXpf02', 'artist_name': 'Taylor Swift', 'external_url': 'https://api.spotify.com/v1/artists/06HL4z0CvFAxyc27GXpf02'}\n",
            "{'artist_id': '1Xyo4u8uXC1ZmMpatF05PJ', 'artist_name': 'The Weeknd', 'external_url': 'https://api.spotify.com/v1/artists/1Xyo4u8uXC1ZmMpatF05PJ'}\n",
            "{'artist_id': '250b0Wlc5Vk0CoUsaCY84M', 'artist_name': 'JENNIE', 'external_url': 'https://api.spotify.com/v1/artists/250b0Wlc5Vk0CoUsaCY84M'}\n",
            "{'artist_id': '1pBLC0qVRTB5zVMuteQ9jJ', 'artist_name': 'Lily-Rose Depp', 'external_url': 'https://api.spotify.com/v1/artists/1pBLC0qVRTB5zVMuteQ9jJ'}\n",
            "{'artist_id': '6KImCVD70vtIoJWnq6nGn3', 'artist_name': 'Harry Styles', 'external_url': 'https://api.spotify.com/v1/artists/6KImCVD70vtIoJWnq6nGn3'}\n",
            "{'artist_id': '6ltzsmQQbmdoHHbLZ4ZN25', 'artist_name': 'Lord Huron', 'external_url': 'https://api.spotify.com/v1/artists/6ltzsmQQbmdoHHbLZ4ZN25'}\n",
            "{'artist_id': '6qqNVTkY8uBg9cP3Jd7DAH', 'artist_name': 'Billie Eilish', 'external_url': 'https://api.spotify.com/v1/artists/6qqNVTkY8uBg9cP3Jd7DAH'}\n",
            "{'artist_id': '7Ez6lTtSMjMf2YSYpukP1I', 'artist_name': 'Dasha', 'external_url': 'https://api.spotify.com/v1/artists/7Ez6lTtSMjMf2YSYpukP1I'}\n",
            "{'artist_id': '2LRoIwlKmHjgvigdNGBHNo', 'artist_name': 'Feid', 'external_url': 'https://api.spotify.com/v1/artists/2LRoIwlKmHjgvigdNGBHNo'}\n",
            "{'artist_id': '7jAs1uPnpfNmT6e5qtEPxq', 'artist_name': 'ATL Jacob', 'external_url': 'https://api.spotify.com/v1/artists/7jAs1uPnpfNmT6e5qtEPxq'}\n",
            "{'artist_id': '5H4yInM5zmHqpKIoMNAx4r', 'artist_name': 'Central Cee', 'external_url': 'https://api.spotify.com/v1/artists/5H4yInM5zmHqpKIoMNAx4r'}\n",
            "{'artist_id': '5f7VJjfbwm532GiveGC0ZK', 'artist_name': 'Lil Baby', 'external_url': 'https://api.spotify.com/v1/artists/5f7VJjfbwm532GiveGC0ZK'}\n",
            "{'artist_id': '77SW9BnxLY8rJ0RciFqkHh', 'artist_name': 'The Neighbourhood', 'external_url': 'https://api.spotify.com/v1/artists/77SW9BnxLY8rJ0RciFqkHh'}\n",
            "{'artist_id': '11p2E654TTU8e0nZWBR4AL', 'artist_name': 'Mark Ambor', 'external_url': 'https://api.spotify.com/v1/artists/11p2E654TTU8e0nZWBR4AL'}\n",
            "{'artist_id': '7Ln80lUS6He07XvHI8qqHH', 'artist_name': 'Arctic Monkeys', 'external_url': 'https://api.spotify.com/v1/artists/7Ln80lUS6He07XvHI8qqHH'}\n",
            "{'artist_id': '1fctva4kpRbg2k3v7kwRuS', 'artist_name': 'Rvssian', 'external_url': 'https://api.spotify.com/v1/artists/1fctva4kpRbg2k3v7kwRuS'}\n",
            "{'artist_id': '1mcTU81TzQhprhouKaTkpq', 'artist_name': 'Rauw Alejandro', 'external_url': 'https://api.spotify.com/v1/artists/1mcTU81TzQhprhouKaTkpq'}\n",
            "{'artist_id': '3ZpEKRjHaHANcpk10u6Ntq', 'artist_name': 'Ayra Starr', 'external_url': 'https://api.spotify.com/v1/artists/3ZpEKRjHaHANcpk10u6Ntq'}\n",
            "{'artist_id': '4gzpq5DPGxSnKTe4SA8HAU', 'artist_name': 'Coldplay', 'external_url': 'https://api.spotify.com/v1/artists/4gzpq5DPGxSnKTe4SA8HAU'}\n",
            "{'artist_id': '2loEsOijJ6XiGzWYFXMIRk', 'artist_name': 'Adam Port', 'external_url': 'https://api.spotify.com/v1/artists/2loEsOijJ6XiGzWYFXMIRk'}\n",
            "{'artist_id': '6XjgqvaVLUib6lCerbZrYD', 'artist_name': 'Stryv', 'external_url': 'https://api.spotify.com/v1/artists/6XjgqvaVLUib6lCerbZrYD'}\n",
            "{'artist_id': '26WKgv73kRHD0gEDKD1i8j', 'artist_name': 'Keinemusik', 'external_url': 'https://api.spotify.com/v1/artists/26WKgv73kRHD0gEDKD1i8j'}\n",
            "{'artist_id': '2yyaNPcdxZcn4iutCcLMaC', 'artist_name': 'Orso', 'external_url': 'https://api.spotify.com/v1/artists/2yyaNPcdxZcn4iutCcLMaC'}\n",
            "{'artist_id': '37lTKHi901VnwngQ7C8noT', 'artist_name': 'Malachiii', 'external_url': 'https://api.spotify.com/v1/artists/37lTKHi901VnwngQ7C8noT'}\n",
            "{'artist_id': '1Cs0zKBU1kc0i8ypK3B9ai', 'artist_name': 'David Guetta', 'external_url': 'https://api.spotify.com/v1/artists/1Cs0zKBU1kc0i8ypK3B9ai'}\n",
            "{'artist_id': '5Pwc4xIPtQLFEnJriah9YJ', 'artist_name': 'OneRepublic', 'external_url': 'https://api.spotify.com/v1/artists/5Pwc4xIPtQLFEnJriah9YJ'}\n",
            "{'artist_id': '6HaGTQPmzraVmaVxvz6EUc', 'artist_name': 'Jung Kook', 'external_url': 'https://api.spotify.com/v1/artists/6HaGTQPmzraVmaVxvz6EUc'}\n",
            "{'artist_id': '3MdXrJWsbVzdn6fe5JYkSQ', 'artist_name': 'Latto', 'external_url': 'https://api.spotify.com/v1/artists/3MdXrJWsbVzdn6fe5JYkSQ'}\n",
            "{'artist_id': '1WaFQSHVGZQJTbf0BdxdNo', 'artist_name': 'Tommy Richman', 'external_url': 'https://api.spotify.com/v1/artists/1WaFQSHVGZQJTbf0BdxdNo'}\n",
            "{'artist_id': '4oUHIQIBe0LHzYfvXNW4QM', 'artist_name': 'Morgan Wallen', 'external_url': 'https://api.spotify.com/v1/artists/4oUHIQIBe0LHzYfvXNW4QM'}\n",
            "{'artist_id': '7GlBOeep6PqTfFi59PTUUN', 'artist_name': 'Chappell Roan', 'external_url': 'https://api.spotify.com/v1/artists/7GlBOeep6PqTfFi59PTUUN'}\n",
            "{'artist_id': '5MraexJKZDrQYzS98kNwie', 'artist_name': 'Sevdaliza', 'external_url': 'https://api.spotify.com/v1/artists/5MraexJKZDrQYzS98kNwie'}\n",
            "{'artist_id': '6tzRZ39aZlNqlUzQlkuhDV', 'artist_name': 'Pabllo Vittar', 'external_url': 'https://api.spotify.com/v1/artists/6tzRZ39aZlNqlUzQlkuhDV'}\n",
            "{'artist_id': '1QsdzIKkTT5gDFj8GB1cIX', 'artist_name': 'Yseult', 'external_url': 'https://api.spotify.com/v1/artists/1QsdzIKkTT5gDFj8GB1cIX'}\n",
            "{'artist_id': '1Yj5Xey7kTwvZla8sqdsdE', 'artist_name': 'Cris Mj', 'external_url': 'https://api.spotify.com/v1/artists/1Yj5Xey7kTwvZla8sqdsdE'}\n",
            "{'artist_id': '22wbnEMDvgVIAGdFeek6ET', 'artist_name': 'Benson Boone', 'external_url': 'https://api.spotify.com/v1/artists/22wbnEMDvgVIAGdFeek6ET'}\n",
            "{'artist_id': '1RyvyyTE3xzB2ZywiAwp0i', 'artist_name': 'Future', 'external_url': 'https://api.spotify.com/v1/artists/1RyvyyTE3xzB2ZywiAwp0i'}\n",
            "{'artist_id': '0iEtIxbK0KxaSlF7G42ZOp', 'artist_name': 'Metro Boomin', 'external_url': 'https://api.spotify.com/v1/artists/0iEtIxbK0KxaSlF7G42ZOp'}\n",
            "{'artist_id': '2YZyLoL8N0Wb9xBt1NhZWg', 'artist_name': 'Kendrick Lamar', 'external_url': 'https://api.spotify.com/v1/artists/2YZyLoL8N0Wb9xBt1NhZWg'}\n",
            "{'artist_id': '0Y5tJX1MQlPlqiwlOH1tJY', 'artist_name': 'Travis Scott', 'external_url': 'https://api.spotify.com/v1/artists/0Y5tJX1MQlPlqiwlOH1tJY'}\n",
            "{'artist_id': '699OTQXzgjhIYAHMy9RyPD', 'artist_name': 'Playboi Carti', 'external_url': 'https://api.spotify.com/v1/artists/699OTQXzgjhIYAHMy9RyPD'}\n",
            "{'artist_id': '2RQXRUsr4IW1f3mKyKsy4B', 'artist_name': 'Noah Kahan', 'external_url': 'https://api.spotify.com/v1/artists/2RQXRUsr4IW1f3mKyKsy4B'}\n",
            "{'artist_id': '4V8LLVI7PbaPR0K2TGSxFF', 'artist_name': 'Tyler, The Creator', 'external_url': 'https://api.spotify.com/v1/artists/4V8LLVI7PbaPR0K2TGSxFF'}\n",
            "{'artist_id': '1U1el3k54VvEUzo3ybLPlM', 'artist_name': 'Kali Uchis', 'external_url': 'https://api.spotify.com/v1/artists/1U1el3k54VvEUzo3ybLPlM'}\n"
          ]
        }
      ]
    },
    {
      "cell_type": "markdown",
      "source": [
        "Iterates through the playlist data to extract song information and appends it to `song_list`:\n",
        "- `data['items']` contains the playlist tracks\n",
        "- for each track, extracts song ID, name, duration, Spotify URL, popularity, and added date\n",
        "- also extracts album ID and first artist ID associated with the track\n",
        "- constructs a dictionary `song_element` with the extracted song information for structured storage\n",
        "- appends `song_element` to `song_list`, allowing for easy iteration, sorting, and filtering of multiple songs\n",
        "\n",
        "Using dictionaries to store individual song data ensure all revelent information is kept together, while the list organizes these dictionaries for efficient processing and analysis"
      ],
      "metadata": {
        "id": "-4wcUJHyJlz0"
      }
    },
    {
      "cell_type": "code",
      "source": [
        "song_list = []\n",
        "for row in data['items']:\n",
        "  song_id = row['track']['id']\n",
        "  song_name = row['track']['name']\n",
        "  song_duration = row['track']['duration_ms']\n",
        "  song_url = row['track']['external_urls']['spotify']\n",
        "  song_popularity = row['track']['popularity']\n",
        "  song_added = row['added_at']\n",
        "  album_id = row['track']['album']['id']\n",
        "  artist_id = row['track']['artists'][0]['id']\n",
        "  song_element = {\n",
        "      'song_id': song_id,\n",
        "      'song_name': song_name,\n",
        "      'song_ms': song_duration,\n",
        "      'url': song_url,\n",
        "      'popularity': song_popularity,\n",
        "      'song_added': song_added,\n",
        "      'album_id': album_id,\n",
        "      'artist_id': artist_id\n",
        "      }\n",
        "  song_list.append(song_element)"
      ],
      "metadata": {
        "id": "C8hD5nviMKpT"
      },
      "execution_count": 21,
      "outputs": []
    },
    {
      "cell_type": "markdown",
      "source": [
        "Converts the `album_list` to a Pandas DataFrame for easier data manipulation and analysis:\n",
        "- `album_list` is a lit of dictionaries containing album information\n",
        "- `pd.DataFrame.from(album_list)` creates a DataFrame from this list, organizing the data into a tabular format with columns corresponding to dictionary keys."
      ],
      "metadata": {
        "id": "1c-awpdRO0JZ"
      }
    },
    {
      "cell_type": "code",
      "source": [
        "album_df = pd.DataFrame.from_dict(album_list)\n"
      ],
      "metadata": {
        "id": "-CaE46jfO1tB"
      },
      "execution_count": 27,
      "outputs": []
    },
    {
      "cell_type": "markdown",
      "source": [
        "Removes duplicates from the `album_df` DataFrame based on the `album_id` column to ensure each album appears only once:\n",
        "- `album_df.drop_duplicates(subset=['album_id'])` identifies and drops row with duplicate `album_id` values\n",
        "- this helps maintain a clean and accurate dataset for analysis"
      ],
      "metadata": {
        "id": "hKGiGFjsRAl9"
      }
    },
    {
      "cell_type": "code",
      "source": [
        "album_df = album_df.drop_duplicates(subset=['album_id'])"
      ],
      "metadata": {
        "id": "_vLiWf-HQlE4"
      },
      "execution_count": 32,
      "outputs": []
    },
    {
      "cell_type": "code",
      "source": [
        "artist_df = df.DataFrame.from_dict(artist_list)"
      ],
      "metadata": {
        "id": "TfOz8uO_Qlp4"
      },
      "execution_count": null,
      "outputs": []
    },
    {
      "cell_type": "code",
      "source": [
        "artist_df = artist_df.drop_duplicates(subset=['album_id'])"
      ],
      "metadata": {
        "id": "YA2-qqvgloM3"
      },
      "execution_count": null,
      "outputs": []
    },
    {
      "cell_type": "code",
      "source": [],
      "metadata": {
        "id": "ntTSZHD_l4Qy"
      },
      "execution_count": null,
      "outputs": []
    }
  ]
}